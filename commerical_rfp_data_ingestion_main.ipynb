{
 "cells": [
  {
   "cell_type": "code",
   "execution_count": null,
   "id": "83308153",
   "metadata": {},
   "outputs": [],
   "source": [
    "import os\n",
    "import json\n",
    "from datetime import datetime\n",
    "import pandas as pd\n",
    "from commercial_rfp_shared_logger import logger\n",
    "from commercial_rfp_raw_data_ingestion_and_cleaning import DataIngestion\n",
    "import time\n",
    "\n",
    "def main():\n",
    "    today_date = datetime.now().strftime(\"%Y-%m-%d\")\n",
    "    log_file_name = f\"commercial_rfp_data_processor_{today_date}.log\"\n",
    "    config_file='config.json'\n",
    "    \n",
    "    with open(config_file, 'r') as f:\n",
    "        config_details = json.load(f)\n",
    "\n",
    "    \n",
    "    #Define all variable here. Remove this logic from the individual files\n",
    "    data_ingestion = DataIngestion()\n",
    "    doc_creation = ''\n",
    "    logger.info(\"******************************************************\")\n",
    "    data_ingestion.commercial_rfp_data_cleaning()\n",
    "    time.sleep(10)\n",
    "\n",
    "    doc_creation#.commercial_rfp_data_cleaning()\n",
    "    time.sleep(10)\n",
    "\n",
    "if __name__ == \"__main__\":\n",
    "    main()"
   ]
  }
 ],
 "metadata": {
  "kernelspec": {
   "display_name": ".venv2",
   "language": "python",
   "name": "python3"
  },
  "language_info": {
   "name": "python",
   "version": "3.12.4"
  }
 },
 "nbformat": 4,
 "nbformat_minor": 5
}
